{
 "cells": [
  {
   "cell_type": "markdown",
   "id": "e8ed5325",
   "metadata": {
    "papermill": {
     "duration": 0.007732,
     "end_time": "2023-08-29T16:35:44.367868",
     "exception": false,
     "start_time": "2023-08-29T16:35:44.360136",
     "status": "completed"
    },
    "tags": []
   },
   "source": [
    "# HubMAP 2023 - MaskRCNN\n",
    "\n",
    "kaggle submission notebook, with 4 data sources\n",
    "\n",
    "1. competition dataset\n",
    "\n",
    "2. faster-rcnn (5 files)\n",
    "\n",
    "3. pycocotools (pip package)\n",
    "\n",
    "4. uploaded model(s)\n",
    "\n",
    "predict masks of images by maskrcnn model trained elsewhere\n",
    "\n",
    "need to specify number of times of dilation and masking thershold\n",
    "\n",
    "support raw .pth model only"
   ]
  },
  {
   "cell_type": "markdown",
   "id": "1385149f",
   "metadata": {
    "papermill": {
     "duration": 0.006855,
     "end_time": "2023-08-29T16:35:44.382116",
     "exception": false,
     "start_time": "2023-08-29T16:35:44.375261",
     "status": "completed"
    },
    "tags": []
   },
   "source": [
    "# parameters"
   ]
  },
  {
   "cell_type": "code",
   "execution_count": 1,
   "id": "c3c159b0",
   "metadata": {
    "execution": {
     "iopub.execute_input": "2023-08-29T16:35:44.398757Z",
     "iopub.status.busy": "2023-08-29T16:35:44.397885Z",
     "iopub.status.idle": "2023-08-29T16:35:44.413547Z",
     "shell.execute_reply": "2023-08-29T16:35:44.412575Z"
    },
    "papermill": {
     "duration": 0.026661,
     "end_time": "2023-08-29T16:35:44.415714",
     "exception": false,
     "start_time": "2023-08-29T16:35:44.389053",
     "status": "completed"
    },
    "tags": []
   },
   "outputs": [],
   "source": [
    "MODEL_PATH = \".\"\n",
    "MODEL_HIDDEN = 256\n",
    "import os\n",
    "assert os.path.exists(MODEL_PATH)"
   ]
  },
  {
   "cell_type": "code",
   "execution_count": 2,
   "id": "10d7e303",
   "metadata": {
    "execution": {
     "iopub.execute_input": "2023-08-29T16:35:44.431286Z",
     "iopub.status.busy": "2023-08-29T16:35:44.430459Z",
     "iopub.status.idle": "2023-08-29T16:35:44.435242Z",
     "shell.execute_reply": "2023-08-29T16:35:44.434231Z"
    },
    "papermill": {
     "duration": 0.014779,
     "end_time": "2023-08-29T16:35:44.437412",
     "exception": false,
     "start_time": "2023-08-29T16:35:44.422633",
     "status": "completed"
    },
    "tags": []
   },
   "outputs": [],
   "source": [
    "DILATE_TIMES = 0\n",
    "MASK_THRE = 0.5\n",
    "RANDOM_SEED = 824"
   ]
  },
  {
   "cell_type": "code",
   "execution_count": 3,
   "id": "84945ba2",
   "metadata": {
    "execution": {
     "iopub.execute_input": "2023-08-29T16:35:44.452592Z",
     "iopub.status.busy": "2023-08-29T16:35:44.451684Z",
     "iopub.status.idle": "2023-08-29T16:35:44.459575Z",
     "shell.execute_reply": "2023-08-29T16:35:44.458618Z"
    },
    "papermill": {
     "duration": 0.017639,
     "end_time": "2023-08-29T16:35:44.461656",
     "exception": false,
     "start_time": "2023-08-29T16:35:44.444017",
     "status": "completed"
    },
    "tags": []
   },
   "outputs": [
    {
     "data": {
      "text/plain": [
       "'/kaggle/input/hubmap-hacking-the-human-vasculature/test'"
      ]
     },
     "execution_count": 3,
     "metadata": {},
     "output_type": "execute_result"
    }
   ],
   "source": [
    "TEST_DIR = \"/kaggle/input/hubmap-hacking-the-human-vasculature/test\"\n",
    "TEST_DIR"
   ]
  },
  {
   "cell_type": "markdown",
   "id": "82fb7049",
   "metadata": {
    "papermill": {
     "duration": 0.007399,
     "end_time": "2023-08-29T16:35:44.475860",
     "exception": false,
     "start_time": "2023-08-29T16:35:44.468461",
     "status": "completed"
    },
    "tags": []
   },
   "source": [
    "# setup and installs"
   ]
  },
  {
   "cell_type": "code",
   "execution_count": 4,
   "id": "16365790",
   "metadata": {
    "_cell_guid": "b1076dfc-b9ad-4769-8c92-a6c4dae69d19",
    "_uuid": "8f2839f25d086af736a60e9eeb907d3b93b6e0e5",
    "execution": {
     "iopub.execute_input": "2023-08-29T16:35:44.492336Z",
     "iopub.status.busy": "2023-08-29T16:35:44.491295Z",
     "iopub.status.idle": "2023-08-29T16:35:45.491628Z",
     "shell.execute_reply": "2023-08-29T16:35:45.489987Z"
    },
    "papermill": {
     "duration": 1.011164,
     "end_time": "2023-08-29T16:35:45.494298",
     "exception": false,
     "start_time": "2023-08-29T16:35:44.483134",
     "status": "completed"
    },
    "tags": []
   },
   "outputs": [
    {
     "name": "stdout",
     "output_type": "stream",
     "text": [
      "/kaggle/working\r\n"
     ]
    }
   ],
   "source": [
    "!pwd"
   ]
  },
  {
   "cell_type": "code",
   "execution_count": 5,
   "id": "54428ee8",
   "metadata": {
    "execution": {
     "iopub.execute_input": "2023-08-29T16:35:45.511390Z",
     "iopub.status.busy": "2023-08-29T16:35:45.510339Z",
     "iopub.status.idle": "2023-08-29T16:35:45.728445Z",
     "shell.execute_reply": "2023-08-29T16:35:45.727334Z"
    },
    "papermill": {
     "duration": 0.229674,
     "end_time": "2023-08-29T16:35:45.731267",
     "exception": false,
     "start_time": "2023-08-29T16:35:45.501593",
     "status": "completed"
    },
    "tags": []
   },
   "outputs": [],
   "source": [
    "import os\n",
    "import glob\n",
    "from matplotlib import pyplot as plt\n",
    "import numpy as np\n",
    "import pandas as pd\n",
    "import json\n",
    "import cv2\n",
    "import matplotlib.image as mpimg\n",
    "import shutil\n",
    "from tqdm import tqdm"
   ]
  },
  {
   "cell_type": "code",
   "execution_count": 6,
   "id": "13e720ca",
   "metadata": {
    "execution": {
     "iopub.execute_input": "2023-08-29T16:35:45.747940Z",
     "iopub.status.busy": "2023-08-29T16:35:45.747603Z",
     "iopub.status.idle": "2023-08-29T16:35:49.775158Z",
     "shell.execute_reply": "2023-08-29T16:35:49.774112Z"
    },
    "papermill": {
     "duration": 4.038933,
     "end_time": "2023-08-29T16:35:49.777949",
     "exception": false,
     "start_time": "2023-08-29T16:35:45.739016",
     "status": "completed"
    },
    "tags": []
   },
   "outputs": [],
   "source": [
    "import torch\n",
    "import torchvision\n",
    "import random\n",
    "\n",
    "torch.manual_seed(RANDOM_SEED)\n",
    "random.seed(RANDOM_SEED)"
   ]
  },
  {
   "cell_type": "code",
   "execution_count": 7,
   "id": "e499f645",
   "metadata": {
    "execution": {
     "iopub.execute_input": "2023-08-29T16:35:49.797064Z",
     "iopub.status.busy": "2023-08-29T16:35:49.796527Z",
     "iopub.status.idle": "2023-08-29T16:36:03.120388Z",
     "shell.execute_reply": "2023-08-29T16:36:03.118950Z"
    },
    "papermill": {
     "duration": 13.335026,
     "end_time": "2023-08-29T16:36:03.122922",
     "exception": false,
     "start_time": "2023-08-29T16:35:49.787896",
     "status": "completed"
    },
    "tags": []
   },
   "outputs": [],
   "source": [
    "!pip install -q --no-index --find-links=/kaggle/input/offline-pycocotools pycocotools --no-build-isolation -q"
   ]
  },
  {
   "cell_type": "markdown",
   "id": "cf6844d2",
   "metadata": {
    "papermill": {
     "duration": 0.007118,
     "end_time": "2023-08-29T16:36:03.138022",
     "exception": false,
     "start_time": "2023-08-29T16:36:03.130904",
     "status": "completed"
    },
    "tags": []
   },
   "source": [
    "# encoding\n",
    "\n",
    "ref: https://www.kaggle.com/code/itsuki9180/hubmap-inference/notebook"
   ]
  },
  {
   "cell_type": "code",
   "execution_count": 8,
   "id": "1fc19ca3",
   "metadata": {
    "execution": {
     "iopub.execute_input": "2023-08-29T16:36:03.155018Z",
     "iopub.status.busy": "2023-08-29T16:36:03.154628Z",
     "iopub.status.idle": "2023-08-29T16:36:03.171525Z",
     "shell.execute_reply": "2023-08-29T16:36:03.170540Z"
    },
    "papermill": {
     "duration": 0.028208,
     "end_time": "2023-08-29T16:36:03.173905",
     "exception": false,
     "start_time": "2023-08-29T16:36:03.145697",
     "status": "completed"
    },
    "tags": []
   },
   "outputs": [],
   "source": [
    "import base64\n",
    "import numpy as np\n",
    "from pycocotools import _mask as coco_mask\n",
    "import typing as t\n",
    "import zlib\n",
    "\n",
    "def encode_binary_mask(mask: np.ndarray) -> t.Text:\n",
    "    \"\"\"Converts a binary mask into OID challenge encoding ascii text.\"\"\"\n",
    "\n",
    "    # check input mask --\n",
    "    if mask.dtype != bool:\n",
    "        raise ValueError(\n",
    "            \"encode_binary_mask expects a binary mask, received dtype == %s\" %\n",
    "            mask.dtype)\n",
    "\n",
    "    mask = np.squeeze(mask)\n",
    "    if len(mask.shape) != 2:\n",
    "        raise ValueError(\n",
    "            \"encode_binary_mask expects a 2d mask, received shape == %s\" %\n",
    "            mask.shape)\n",
    "\n",
    "    # convert input mask to expected COCO API input --\n",
    "    mask_to_encode = mask.reshape(mask.shape[0], mask.shape[1], 1)\n",
    "    mask_to_encode = mask_to_encode.astype(np.uint8)\n",
    "    mask_to_encode = np.asfortranarray(mask_to_encode)\n",
    "\n",
    "    # RLE encode mask --\n",
    "    encoded_mask = coco_mask.encode(mask_to_encode)[0][\"counts\"]\n",
    "\n",
    "    # compress and base64 encoding --\n",
    "    binary_str = zlib.compress(encoded_mask, zlib.Z_BEST_COMPRESSION)\n",
    "    base64_str = base64.b64encode(binary_str)\n",
    "    return base64_str"
   ]
  },
  {
   "cell_type": "markdown",
   "id": "1eb90d4c",
   "metadata": {
    "papermill": {
     "duration": 0.007117,
     "end_time": "2023-08-29T16:36:03.188835",
     "exception": false,
     "start_time": "2023-08-29T16:36:03.181718",
     "status": "completed"
    },
    "tags": []
   },
   "source": [
    "# maskrcnn interface"
   ]
  },
  {
   "cell_type": "code",
   "execution_count": 9,
   "id": "101c5de1",
   "metadata": {
    "execution": {
     "iopub.execute_input": "2023-08-29T16:36:03.205926Z",
     "iopub.status.busy": "2023-08-29T16:36:03.204982Z",
     "iopub.status.idle": "2023-08-29T16:36:05.339108Z",
     "shell.execute_reply": "2023-08-29T16:36:05.337986Z"
    },
    "papermill": {
     "duration": 2.145663,
     "end_time": "2023-08-29T16:36:05.341777",
     "exception": false,
     "start_time": "2023-08-29T16:36:03.196114",
     "status": "completed"
    },
    "tags": []
   },
   "outputs": [
    {
     "name": "stderr",
     "output_type": "stream",
     "text": [
      "/opt/conda/lib/python3.10/site-packages/scipy/__init__.py:146: UserWarning: A NumPy version >=1.16.5 and <1.23.0 is required for this version of SciPy (detected version 1.23.5\n",
      "  warnings.warn(f\"A NumPy version >={np_minversion} and <{np_maxversion}\"\n"
     ]
    }
   ],
   "source": [
    "from torchvision.models.detection.faster_rcnn import FastRCNNPredictor\n",
    "from torchvision.models.detection.mask_rcnn import MaskRCNNPredictor\n",
    "from torchvision.models.resnet import ResNet50_Weights\n",
    "import torchvision\n",
    "\n",
    "def get_model_instance_segmentation(num_classes, defweights=True, hidden=256):\n",
    "    # load an instance segmentation model pre-trained on COCO\n",
    "    if defweights:\n",
    "        model = torchvision.models.detection.maskrcnn_resnet50_fpn_v2(weights=\"DEFAULT\", weights_backbone=ResNet50_Weights.IMAGENET1K_V2)\n",
    "    else:\n",
    "        model = torchvision.models.detection.maskrcnn_resnet50_fpn_v2(weights=None, weights_backbone=None)\n",
    "    \n",
    "    # get number of input features for the classifier\n",
    "    in_features = model.roi_heads.box_predictor.cls_score.in_features\n",
    "    # replace the pre-trained head with a new one\n",
    "    model.roi_heads.box_predictor = FastRCNNPredictor(in_features, num_classes)\n",
    "\n",
    "    # now get the number of input features for the mask classifier\n",
    "    in_features_mask = model.roi_heads.mask_predictor.conv5_mask.in_channels\n",
    "    hidden_layer = hidden\n",
    "    # and replace the mask predictor with a new one\n",
    "    model.roi_heads.mask_predictor = MaskRCNNPredictor(in_features_mask,  hidden_layer, num_classes)\n",
    "\n",
    "    return model\n",
    "\n",
    "def my_collate(batch):\n",
    "    return tuple(zip(*batch))\n",
    "\n",
    "import albumentations as A\n",
    "from albumentations.pytorch import ToTensorV2\n",
    "\n",
    "def get_album_trans(train=True):\n",
    "    transforms = []\n",
    "    \n",
    "    if train:\n",
    "        raise Exception(\"No training here\")\n",
    "    else:\n",
    "        pass\n",
    "    \n",
    "    transforms.append(A.Normalize(mean=(0.485, 0.456, 0.406), std=(0.229, 0.224, 0.225))) \n",
    "    transforms.append(ToTensorV2())\n",
    "    return A.Compose(transforms)"
   ]
  },
  {
   "cell_type": "code",
   "execution_count": 10,
   "id": "5a30d1f8",
   "metadata": {
    "execution": {
     "iopub.execute_input": "2023-08-29T16:36:05.357539Z",
     "iopub.status.busy": "2023-08-29T16:36:05.357087Z",
     "iopub.status.idle": "2023-08-29T16:36:05.372849Z",
     "shell.execute_reply": "2023-08-29T16:36:05.371716Z"
    },
    "papermill": {
     "duration": 0.026603,
     "end_time": "2023-08-29T16:36:05.375478",
     "exception": false,
     "start_time": "2023-08-29T16:36:05.348875",
     "status": "completed"
    },
    "tags": []
   },
   "outputs": [],
   "source": [
    "import matplotlib.image as mpimg\n",
    "import torch\n",
    "\n",
    "class PtMaskRcnnDetector():\n",
    "    def __init__(self, weight_path, num_classes=3, device=\"cuda:0\", hidden=256):\n",
    "        assert num_classes == 3 or num_classes == 4\n",
    "        self.device = device\n",
    "        self.transforms = get_album_trans(train=False)\n",
    "        self.model = get_model_instance_segmentation(num_classes=num_classes, defweights=False, hidden=hidden).to(self.device)\n",
    "        self.model.eval()\n",
    "        print(self.model.load_state_dict(torch.load(weight_path, map_location = self.device)))\n",
    "        print(\"PtMaskRcnnDetector: successfully loaded weights\")\n",
    "\n",
    "    def _processimage(self, impath):\n",
    "        format = impath.split(\".\")[-1]\n",
    "        if format == \"tif\":\n",
    "            return mpimg.imread(impath)\n",
    "        elif format == \"png\":\n",
    "            return cv2.imread(impath)\n",
    "        else:\n",
    "            raise Exception(\"wrong image format, only tif or png are allowed!\")\n",
    "\n",
    "    def _img2tensor(self, img):\n",
    "        if self.transforms is not None:\n",
    "            transformed = self.transforms(image = img)\n",
    "            torchim =  transformed[\"image\"]\n",
    "        else:\n",
    "            torchim = torch.tensor(np.transpose(img, (2,0,1))).to(torch.float32)/255.\n",
    "        return torchim.to(self.device)\n",
    "    \n",
    "    class PredOutput():\n",
    "        def __init__(self, masks, scores) -> None:\n",
    "            self.masks = masks\n",
    "            self.scores = scores\n",
    "        \n",
    "    def predict_masks_scores(self, imgpath, thre=0.5):\n",
    "        \"\"\"return a dict, should be able to use dot syntax\"\"\"\n",
    "        masks = list()\n",
    "        scores = list()\n",
    "\n",
    "        torchim = self._img2tensor(self._processimage(impath=imgpath)).unsqueeze(0)\n",
    "        pred = self.model(torchim)\n",
    "\n",
    "        for m in range(len(pred[0]['masks'])):\n",
    "            # not blood vessel\n",
    "            if (pred[0]['labels'][m] != 1): \n",
    "                continue\n",
    "                \n",
    "            mask = pred[0]['masks'][m].detach().permute(1,2,0).cpu().numpy()\n",
    "            mask = np.where(mask>thre, 1, 0).astype(bool).squeeze(2)\n",
    "            score = pred[0]['scores'][m].detach().cpu().numpy()\n",
    "\n",
    "            masks.append(mask)\n",
    "            scores.append(score)\n",
    "        \n",
    "        return self.PredOutput(masks=np.array(masks), scores=np.array(scores))\n",
    "    \n",
    "# # example usage\n",
    "# MODEL_PATH = \"*.pth\"\n",
    "# ptmrcnn_detector = PtMaskRcnnDetector(weight_path=MODEL_PATH, num_classes=3, device=\"cuda:0\")\n",
    "# imgpath = \"*.tif\" # OR \"*.png\"\n",
    "# new_result = ptmrcnn_detector.predict_masks_scores(imgpath=imgpath, thre=0.5)\n",
    "# new_result.masks.shape, new_result.scores"
   ]
  },
  {
   "cell_type": "markdown",
   "id": "e5db4970",
   "metadata": {
    "papermill": {
     "duration": 0.00677,
     "end_time": "2023-08-29T16:36:05.389167",
     "exception": false,
     "start_time": "2023-08-29T16:36:05.382397",
     "status": "completed"
    },
    "tags": []
   },
   "source": [
    "# inference helpers"
   ]
  },
  {
   "cell_type": "code",
   "execution_count": 11,
   "id": "c876570a",
   "metadata": {
    "execution": {
     "iopub.execute_input": "2023-08-29T16:36:05.404775Z",
     "iopub.status.busy": "2023-08-29T16:36:05.403946Z",
     "iopub.status.idle": "2023-08-29T16:36:05.413883Z",
     "shell.execute_reply": "2023-08-29T16:36:05.413015Z"
    },
    "papermill": {
     "duration": 0.020213,
     "end_time": "2023-08-29T16:36:05.416148",
     "exception": false,
     "start_time": "2023-08-29T16:36:05.395935",
     "status": "completed"
    },
    "tags": []
   },
   "outputs": [],
   "source": [
    "def getgtmasks(target):\n",
    "    gt_masks = list()\n",
    "    for i in range(len(target[\"masks\"])):\n",
    "        if target[\"labels\"][i] != 1 and target[\"labels\"][i] != 2:\n",
    "            continue\n",
    "        else:\n",
    "            e = np.where(target[\"masks\"][i] > MASK_THRE, 1, 0).astype(bool)\n",
    "            gt_masks.append(e)\n",
    "    return gt_masks\n",
    "\n",
    "def form_pred_string(pred_masks, scores):\n",
    "    pred_string = \"\"\n",
    "    firstpred = True\n",
    "    for mask,score in zip(pred_masks, scores):\n",
    "        encoded = encode_binary_mask(mask)\n",
    "        if firstpred:\n",
    "            pred_string += f\"0 {score} {encoded.decode('utf-8')}\"\n",
    "            firstpred = False\n",
    "        else:\n",
    "            pred_string += f\" 0 {score} {encoded.decode('utf-8')}\"\n",
    "    return pred_string\n",
    "\n",
    "def dilate_mask(boolmask, times=2):\n",
    "    intmask = boolmask.astype(np.uint8)\n",
    "    for i in range(times):\n",
    "        intmask = cv2.dilate(intmask, kernel=np.array([[0,1,0], [1,1,1], [0,1,0]]).astype(np.uint8))\n",
    "    return intmask.astype(bool)\n",
    "\n",
    "def dilate_with_kernel(boolmask, kernel = None):\n",
    "    npmask = boolmask.astype(np.uint8)\n",
    "    return cv2.dilate(npmask, kernel=kernel).astype(bool)"
   ]
  },
  {
   "cell_type": "markdown",
   "id": "340b1fb9",
   "metadata": {
    "papermill": {
     "duration": 0.007022,
     "end_time": "2023-08-29T16:36:05.430458",
     "exception": false,
     "start_time": "2023-08-29T16:36:05.423436",
     "status": "completed"
    },
    "tags": []
   },
   "source": [
    "# compute"
   ]
  },
  {
   "cell_type": "code",
   "execution_count": 12,
   "id": "3e442776",
   "metadata": {
    "execution": {
     "iopub.execute_input": "2023-08-29T16:36:05.447451Z",
     "iopub.status.busy": "2023-08-29T16:36:05.446559Z",
     "iopub.status.idle": "2023-08-29T16:36:05.466233Z",
     "shell.execute_reply": "2023-08-29T16:36:05.465097Z"
    },
    "papermill": {
     "duration": 0.030743,
     "end_time": "2023-08-29T16:36:05.468755",
     "exception": false,
     "start_time": "2023-08-29T16:36:05.438012",
     "status": "completed"
    },
    "tags": []
   },
   "outputs": [
    {
     "data": {
      "text/plain": [
       "(10,\n",
       " ['72e40acccadf',\n",
       "  '72e40acccadf',\n",
       "  '72e40acccadf',\n",
       "  '72e40acccadf',\n",
       "  '72e40acccadf'])"
      ]
     },
     "execution_count": 12,
     "metadata": {},
     "output_type": "execute_result"
    }
   ],
   "source": [
    "imglob = glob.glob(os.path.join(TEST_DIR, \"*.tif\"))\n",
    "idlist = [x.split(\"/\")[-1].split(\".\")[0] for x in imglob]\n",
    "\n",
    "# turn to multiple instances if given sample has 1 only\n",
    "if len(idlist) == 1:\n",
    "    idlist = [idlist[0] for i in range(10)]\n",
    "len(idlist), idlist[:5]"
   ]
  },
  {
   "cell_type": "code",
   "execution_count": 13,
   "id": "a339e8a2",
   "metadata": {
    "execution": {
     "iopub.execute_input": "2023-08-29T16:36:05.485571Z",
     "iopub.status.busy": "2023-08-29T16:36:05.484731Z",
     "iopub.status.idle": "2023-08-29T16:36:12.962863Z",
     "shell.execute_reply": "2023-08-29T16:36:12.961786Z"
    },
    "papermill": {
     "duration": 7.488806,
     "end_time": "2023-08-29T16:36:12.965105",
     "exception": false,
     "start_time": "2023-08-29T16:36:05.476299",
     "status": "completed"
    },
    "tags": []
   },
   "outputs": [
    {
     "name": "stdout",
     "output_type": "stream",
     "text": [
      "<All keys matched successfully>\n",
      "PtMaskRcnnDetector: successfully loaded weights\n",
      "model done\n"
     ]
    }
   ],
   "source": [
    "ptmrcnn_detector = PtMaskRcnnDetector(weight_path=MODEL_PATH, num_classes=3, device=\"cuda:0\", hidden=MODEL_HIDDEN)\n",
    "print(\"model done\")"
   ]
  },
  {
   "cell_type": "code",
   "execution_count": 14,
   "id": "b949100b",
   "metadata": {
    "execution": {
     "iopub.execute_input": "2023-08-29T16:36:12.980996Z",
     "iopub.status.busy": "2023-08-29T16:36:12.980660Z",
     "iopub.status.idle": "2023-08-29T16:36:20.423626Z",
     "shell.execute_reply": "2023-08-29T16:36:20.422460Z"
    },
    "papermill": {
     "duration": 7.455301,
     "end_time": "2023-08-29T16:36:20.427661",
     "exception": false,
     "start_time": "2023-08-29T16:36:12.972360",
     "status": "completed"
    },
    "tags": []
   },
   "outputs": [
    {
     "name": "stdout",
     "output_type": "stream",
     "text": [
      "/kaggle/input/hubmap-maskrcnn-models/album-agg-reduce_epoch8.pth\n",
      "256\n",
      "0\n",
      "0.5\n"
     ]
    },
    {
     "name": "stderr",
     "output_type": "stream",
     "text": [
      "100%|██████████| 10/10 [00:07<00:00,  1.35it/s]"
     ]
    },
    {
     "name": "stdout",
     "output_type": "stream",
     "text": [
      "predictions done\n"
     ]
    },
    {
     "name": "stderr",
     "output_type": "stream",
     "text": [
      "\n"
     ]
    }
   ],
   "source": [
    "print(MODEL_PATH)\n",
    "print(MODEL_HIDDEN)\n",
    "print(DILATE_TIMES)\n",
    "print(MASK_THRE)\n",
    "\n",
    "ids = []\n",
    "heights = []\n",
    "widths = []\n",
    "prediction_strings = []\n",
    "\n",
    "for id in tqdm(idlist):\n",
    "    impath = os.path.join(TEST_DIR, f\"{id}.tif\")\n",
    "    h,w,c = mpimg.imread(impath).shape\n",
    "\n",
    "    pred_masks = []\n",
    "    scores = []\n",
    "    \n",
    "    tres = ptmrcnn_detector.predict_masks_scores(imgpath=impath, thre=MASK_THRE)\n",
    "    pred_masks = tres.masks\n",
    "    scores = tres.scores\n",
    "\n",
    "    for i in range(len(pred_masks)):\n",
    "        pred_masks[i] = dilate_mask(pred_masks[i], times=DILATE_TIMES)\n",
    "    \n",
    "    pred_string = form_pred_string(pred_masks, scores)\n",
    "    \n",
    "    ids.append(id)\n",
    "    heights.append(h)\n",
    "    widths.append(w)\n",
    "    prediction_strings.append(pred_string)\n",
    "print(\"predictions done\")\n",
    "    "
   ]
  },
  {
   "cell_type": "markdown",
   "id": "329c2b58",
   "metadata": {
    "papermill": {
     "duration": 0.008644,
     "end_time": "2023-08-29T16:36:20.445151",
     "exception": false,
     "start_time": "2023-08-29T16:36:20.436507",
     "status": "completed"
    },
    "tags": []
   },
   "source": [
    "# turn to csv"
   ]
  },
  {
   "cell_type": "code",
   "execution_count": 15,
   "id": "7a154677",
   "metadata": {
    "execution": {
     "iopub.execute_input": "2023-08-29T16:36:20.463726Z",
     "iopub.status.busy": "2023-08-29T16:36:20.463361Z",
     "iopub.status.idle": "2023-08-29T16:36:20.491221Z",
     "shell.execute_reply": "2023-08-29T16:36:20.490076Z"
    },
    "papermill": {
     "duration": 0.040531,
     "end_time": "2023-08-29T16:36:20.494032",
     "exception": false,
     "start_time": "2023-08-29T16:36:20.453501",
     "status": "completed"
    },
    "tags": []
   },
   "outputs": [],
   "source": [
    "submission = pd.DataFrame()\n",
    "submission['id'] = ids\n",
    "submission['height'] = heights\n",
    "submission['width'] = widths\n",
    "submission['prediction_string'] = prediction_strings\n",
    "submission = submission.set_index('id')\n",
    "submission.to_csv(\"submission.csv\")"
   ]
  },
  {
   "cell_type": "code",
   "execution_count": 16,
   "id": "555ad4d8",
   "metadata": {
    "execution": {
     "iopub.execute_input": "2023-08-29T16:36:20.514282Z",
     "iopub.status.busy": "2023-08-29T16:36:20.513939Z",
     "iopub.status.idle": "2023-08-29T16:36:20.534463Z",
     "shell.execute_reply": "2023-08-29T16:36:20.533319Z"
    },
    "papermill": {
     "duration": 0.033691,
     "end_time": "2023-08-29T16:36:20.537305",
     "exception": false,
     "start_time": "2023-08-29T16:36:20.503614",
     "status": "completed"
    },
    "tags": []
   },
   "outputs": [
    {
     "data": {
      "text/html": [
       "<div>\n",
       "<style scoped>\n",
       "    .dataframe tbody tr th:only-of-type {\n",
       "        vertical-align: middle;\n",
       "    }\n",
       "\n",
       "    .dataframe tbody tr th {\n",
       "        vertical-align: top;\n",
       "    }\n",
       "\n",
       "    .dataframe thead th {\n",
       "        text-align: right;\n",
       "    }\n",
       "</style>\n",
       "<table border=\"1\" class=\"dataframe\">\n",
       "  <thead>\n",
       "    <tr style=\"text-align: right;\">\n",
       "      <th></th>\n",
       "      <th>id</th>\n",
       "      <th>height</th>\n",
       "      <th>width</th>\n",
       "      <th>prediction_string</th>\n",
       "    </tr>\n",
       "  </thead>\n",
       "  <tbody>\n",
       "    <tr>\n",
       "      <th>0</th>\n",
       "      <td>72e40acccadf</td>\n",
       "      <td>512</td>\n",
       "      <td>512</td>\n",
       "      <td>0 0.9681476354598999 eNqLT8o0s0myN/U28TXyM/I3h...</td>\n",
       "    </tr>\n",
       "    <tr>\n",
       "      <th>1</th>\n",
       "      <td>72e40acccadf</td>\n",
       "      <td>512</td>\n",
       "      <td>512</td>\n",
       "      <td>0 0.9681476354598999 eNqLT8o0s0myN/U28TXyM/I3h...</td>\n",
       "    </tr>\n",
       "    <tr>\n",
       "      <th>2</th>\n",
       "      <td>72e40acccadf</td>\n",
       "      <td>512</td>\n",
       "      <td>512</td>\n",
       "      <td>0 0.9681476354598999 eNqLT8o0s0myN/U28TXyM/I3h...</td>\n",
       "    </tr>\n",
       "    <tr>\n",
       "      <th>3</th>\n",
       "      <td>72e40acccadf</td>\n",
       "      <td>512</td>\n",
       "      <td>512</td>\n",
       "      <td>0 0.9681476354598999 eNqLT8o0s0myN/U28TXyM/I3h...</td>\n",
       "    </tr>\n",
       "    <tr>\n",
       "      <th>4</th>\n",
       "      <td>72e40acccadf</td>\n",
       "      <td>512</td>\n",
       "      <td>512</td>\n",
       "      <td>0 0.9681476354598999 eNqLT8o0s0myN/U28TXyM/I3h...</td>\n",
       "    </tr>\n",
       "    <tr>\n",
       "      <th>5</th>\n",
       "      <td>72e40acccadf</td>\n",
       "      <td>512</td>\n",
       "      <td>512</td>\n",
       "      <td>0 0.9681476354598999 eNqLT8o0s0myN/U28TXyM/I3h...</td>\n",
       "    </tr>\n",
       "    <tr>\n",
       "      <th>6</th>\n",
       "      <td>72e40acccadf</td>\n",
       "      <td>512</td>\n",
       "      <td>512</td>\n",
       "      <td>0 0.9681476354598999 eNqLT8o0s0myN/U28TXyM/I3h...</td>\n",
       "    </tr>\n",
       "    <tr>\n",
       "      <th>7</th>\n",
       "      <td>72e40acccadf</td>\n",
       "      <td>512</td>\n",
       "      <td>512</td>\n",
       "      <td>0 0.9681476354598999 eNqLT8o0s0myN/U28TXyM/I3h...</td>\n",
       "    </tr>\n",
       "    <tr>\n",
       "      <th>8</th>\n",
       "      <td>72e40acccadf</td>\n",
       "      <td>512</td>\n",
       "      <td>512</td>\n",
       "      <td>0 0.9681476354598999 eNqLT8o0s0myN/U28TXyM/I3h...</td>\n",
       "    </tr>\n",
       "    <tr>\n",
       "      <th>9</th>\n",
       "      <td>72e40acccadf</td>\n",
       "      <td>512</td>\n",
       "      <td>512</td>\n",
       "      <td>0 0.9681476354598999 eNqLT8o0s0myN/U28TXyM/I3h...</td>\n",
       "    </tr>\n",
       "  </tbody>\n",
       "</table>\n",
       "</div>"
      ],
      "text/plain": [
       "             id  height  width  \\\n",
       "0  72e40acccadf     512    512   \n",
       "1  72e40acccadf     512    512   \n",
       "2  72e40acccadf     512    512   \n",
       "3  72e40acccadf     512    512   \n",
       "4  72e40acccadf     512    512   \n",
       "5  72e40acccadf     512    512   \n",
       "6  72e40acccadf     512    512   \n",
       "7  72e40acccadf     512    512   \n",
       "8  72e40acccadf     512    512   \n",
       "9  72e40acccadf     512    512   \n",
       "\n",
       "                                   prediction_string  \n",
       "0  0 0.9681476354598999 eNqLT8o0s0myN/U28TXyM/I3h...  \n",
       "1  0 0.9681476354598999 eNqLT8o0s0myN/U28TXyM/I3h...  \n",
       "2  0 0.9681476354598999 eNqLT8o0s0myN/U28TXyM/I3h...  \n",
       "3  0 0.9681476354598999 eNqLT8o0s0myN/U28TXyM/I3h...  \n",
       "4  0 0.9681476354598999 eNqLT8o0s0myN/U28TXyM/I3h...  \n",
       "5  0 0.9681476354598999 eNqLT8o0s0myN/U28TXyM/I3h...  \n",
       "6  0 0.9681476354598999 eNqLT8o0s0myN/U28TXyM/I3h...  \n",
       "7  0 0.9681476354598999 eNqLT8o0s0myN/U28TXyM/I3h...  \n",
       "8  0 0.9681476354598999 eNqLT8o0s0myN/U28TXyM/I3h...  \n",
       "9  0 0.9681476354598999 eNqLT8o0s0myN/U28TXyM/I3h...  "
      ]
     },
     "execution_count": 16,
     "metadata": {},
     "output_type": "execute_result"
    }
   ],
   "source": [
    "read_sub = pd.read_csv(\"/kaggle/working/submission.csv\")\n",
    "read_sub"
   ]
  },
  {
   "cell_type": "code",
   "execution_count": null,
   "id": "7cbed35b",
   "metadata": {
    "papermill": {
     "duration": 0.008752,
     "end_time": "2023-08-29T16:36:20.555157",
     "exception": false,
     "start_time": "2023-08-29T16:36:20.546405",
     "status": "completed"
    },
    "tags": []
   },
   "outputs": [],
   "source": []
  }
 ],
 "metadata": {
  "kernelspec": {
   "display_name": "Python 3.10.5 64-bit",
   "language": "python",
   "name": "python3"
  },
  "language_info": {
   "codemirror_mode": {
    "name": "ipython",
    "version": 3
   },
   "file_extension": ".py",
   "mimetype": "text/x-python",
   "name": "python",
   "nbconvert_exporter": "python",
   "pygments_lexer": "ipython3",
   "version": "3.10.5"
  },
  "papermill": {
   "default_parameters": {},
   "duration": 49.968832,
   "end_time": "2023-08-29T16:36:23.213621",
   "environment_variables": {},
   "exception": null,
   "input_path": "__notebook__.ipynb",
   "output_path": "__notebook__.ipynb",
   "parameters": {},
   "start_time": "2023-08-29T16:35:33.244789",
   "version": "2.4.0"
  },
  "vscode": {
   "interpreter": {
    "hash": "ca29e3563348585fb07c9b8f6f5b0173d92adc36dd28ab799a9966dfa905008e"
   }
  }
 },
 "nbformat": 4,
 "nbformat_minor": 5
}
